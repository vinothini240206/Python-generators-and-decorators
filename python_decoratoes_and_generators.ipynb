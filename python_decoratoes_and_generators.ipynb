{
  "nbformat": 4,
  "nbformat_minor": 0,
  "metadata": {
    "colab": {
      "provenance": []
    },
    "kernelspec": {
      "name": "python3",
      "display_name": "Python 3"
    },
    "language_info": {
      "name": "python"
    }
  },
  "cells": [
    {
      "cell_type": "code",
      "execution_count": 1,
      "metadata": {
        "colab": {
          "base_uri": "https://localhost:8080/"
        },
        "id": "9RoczLYwEuWA",
        "outputId": "6f4f191c-07d3-4ad3-81ab-5ac8f8f17be3"
      },
      "outputs": [
        {
          "output_type": "stream",
          "name": "stdout",
          "text": [
            "Something is happening before the function.\n",
            "Hello!\n",
            "Something is happening after the function.\n"
          ]
        }
      ],
      "source": [
        "#how decorator work\n",
        "\n",
        "def my_decorator(func):\n",
        "    def wrapper():\n",
        "        print(\"Something is happening before the function.\")\n",
        "        func()\n",
        "        print(\"Something is happening after the function.\")\n",
        "    return wrapper\n",
        "\n",
        "@my_decorator\n",
        "def say_hello():\n",
        "    print(\"Hello!\")\n",
        "\n",
        "say_hello()\n"
      ]
    },
    {
      "cell_type": "code",
      "source": [
        "#logging decorator\n",
        "\n",
        "def log_decorator(func):\n",
        "    def wrapper(*args, **kwargs):\n",
        "        print(f\"Calling function {func.__name__}\")\n",
        "        result = func(*args, **kwargs)\n",
        "        print(f\"{func.__name__} returned {result}\")\n",
        "        return result\n",
        "    return wrapper\n",
        "\n",
        "@log_decorator\n",
        "def add(x, y):\n",
        "    return x + y\n",
        "\n",
        "add(2, 3)\n"
      ],
      "metadata": {
        "colab": {
          "base_uri": "https://localhost:8080/"
        },
        "id": "SIx686aCFn_X",
        "outputId": "c54c44a5-4155-476b-a531-dde04a307fca"
      },
      "execution_count": 3,
      "outputs": [
        {
          "output_type": "stream",
          "name": "stdout",
          "text": [
            "Calling function add\n",
            "add returned 5\n"
          ]
        },
        {
          "output_type": "execute_result",
          "data": {
            "text/plain": [
              "5"
            ]
          },
          "metadata": {},
          "execution_count": 3
        }
      ]
    },
    {
      "cell_type": "markdown",
      "source": [
        "#types of decorators\n",
        "*1.function decorators - time decorator*"
      ],
      "metadata": {
        "id": "zLyMx-y9F5YY"
      }
    },
    {
      "cell_type": "code",
      "source": [
        "import time\n",
        "\n",
        "def timing_decorator(func):\n",
        "    def wrapper(*args, **kwargs):\n",
        "        start_time = time.time()\n",
        "        result = func(*args, **kwargs)\n",
        "        end_time = time.time()\n",
        "        print(f\"{func.__name__} took {end_time - start_time} seconds to execute\")\n",
        "        return result\n",
        "    return wrapper\n",
        "\n",
        "@timing_decorator\n",
        "def slow_function():\n",
        "    time.sleep(2)\n",
        "\n",
        "slow_function()\n"
      ],
      "metadata": {
        "colab": {
          "base_uri": "https://localhost:8080/"
        },
        "id": "ev8HKuV3F40t",
        "outputId": "e10322a0-ef28-4665-da81-a6989448e155"
      },
      "execution_count": 4,
      "outputs": [
        {
          "output_type": "stream",
          "name": "stdout",
          "text": [
            "slow_function took 2.0016040802001953 seconds to execute\n"
          ]
        }
      ]
    },
    {
      "cell_type": "markdown",
      "source": [
        "*2.class decorator  - add methods dynamically*"
      ],
      "metadata": {
        "id": "l_wshDbeGWua"
      }
    },
    {
      "cell_type": "code",
      "source": [
        "def add_method_decorator(cls):\n",
        "    cls.new_method = lambda self: \"New method added!\"\n",
        "    return cls\n",
        "\n",
        "@add_method_decorator\n",
        "class MyClass:\n",
        "    def existing_method(self):\n",
        "        return \"Existing method\"\n",
        "\n",
        "obj = MyClass()\n",
        "print(obj.existing_method())\n",
        "print(obj.new_method())\n"
      ],
      "metadata": {
        "colab": {
          "base_uri": "https://localhost:8080/"
        },
        "id": "JtRgETmOGfy5",
        "outputId": "1675c511-d7c8-4e97-eee5-0a5d355985c0"
      },
      "execution_count": 5,
      "outputs": [
        {
          "output_type": "stream",
          "name": "stdout",
          "text": [
            "Existing method\n",
            "New method added!\n"
          ]
        }
      ]
    },
    {
      "cell_type": "markdown",
      "source": [
        "*Parameterizing decorator - (eg)conditional logging decorator*"
      ],
      "metadata": {
        "id": "lQDLNbDbGpek"
      }
    },
    {
      "cell_type": "code",
      "source": [
        "def conditional_log(condition):\n",
        "    def decorator(func):\n",
        "        def wrapper(*args, **kwargs):\n",
        "            if condition:\n",
        "                print(f\"Logging: {func.__name__} is called\")\n",
        "            return func(*args, **kwargs)\n",
        "        return wrapper\n",
        "    return decorator\n",
        "\n",
        "@conditional_log(condition=True)\n",
        "def greet(name):\n",
        "    return f\"Hello, {name}!\"\n",
        "\n",
        "greet(\"Alice\")\n"
      ],
      "metadata": {
        "colab": {
          "base_uri": "https://localhost:8080/",
          "height": 53
        },
        "id": "b7b_xSIrG2Ul",
        "outputId": "4a0539ef-4c57-4c93-b660-d2245e30b171"
      },
      "execution_count": 6,
      "outputs": [
        {
          "output_type": "stream",
          "name": "stdout",
          "text": [
            "Logging: greet is called\n"
          ]
        },
        {
          "output_type": "execute_result",
          "data": {
            "text/plain": [
              "'Hello, Alice!'"
            ],
            "application/vnd.google.colaboratory.intrinsic+json": {
              "type": "string"
            }
          },
          "metadata": {},
          "execution_count": 6
        }
      ]
    },
    {
      "cell_type": "markdown",
      "source": [
        "*authentication decorator*"
      ],
      "metadata": {
        "id": "CBJ5U8bpHQQ4"
      }
    },
    {
      "cell_type": "code",
      "source": [
        "def authenticate(role):\n",
        "    def decorator(func):\n",
        "        def wrapper(user_role):\n",
        "            if user_role == role:\n",
        "                return func(user_role)\n",
        "            else:\n",
        "                return \"Access Denied\"\n",
        "        return wrapper\n",
        "    return decorator\n",
        "\n",
        "@authenticate(\"admin\")\n",
        "def admin_panel(user_role):\n",
        "    return \"Welcome to the admin panel\"\n",
        "\n",
        "print(admin_panel(\"admin\"))  # Access granted\n",
        "print(admin_panel(\"guest\"))  # Access denied\n"
      ],
      "metadata": {
        "colab": {
          "base_uri": "https://localhost:8080/"
        },
        "id": "oh9Cuij3HLXr",
        "outputId": "e003605b-594f-4d5a-d8e5-35abd9fc2713"
      },
      "execution_count": 7,
      "outputs": [
        {
          "output_type": "stream",
          "name": "stdout",
          "text": [
            "Welcome to the admin panel\n",
            "Access Denied\n"
          ]
        }
      ]
    },
    {
      "cell_type": "markdown",
      "source": [
        "*Memorization Decorator"
      ],
      "metadata": {
        "id": "CxQmvIhCHVrp"
      }
    },
    {
      "cell_type": "code",
      "source": [
        "def memoize(func):\n",
        "    cache = {}\n",
        "    def wrapper(*args):\n",
        "        if args in cache:\n",
        "            return cache[args]\n",
        "        result = func(*args)\n",
        "        cache[args] = result\n",
        "        return result\n",
        "    return wrapper\n",
        "\n",
        "@memoize\n",
        "def fibonacci(n):\n",
        "    if n <= 1:\n",
        "        return n\n",
        "    return fibonacci(n-1) + fibonacci(n-2)\n",
        "\n",
        "print(fibonacci(10))  # Efficient due to caching\n"
      ],
      "metadata": {
        "colab": {
          "base_uri": "https://localhost:8080/"
        },
        "id": "zsPLLARtHbMh",
        "outputId": "fbee0044-f0f8-4d95-8f8b-7ab83085df83"
      },
      "execution_count": 8,
      "outputs": [
        {
          "output_type": "stream",
          "name": "stdout",
          "text": [
            "55\n"
          ]
        }
      ]
    },
    {
      "cell_type": "markdown",
      "source": [
        "*Advanced topics in decorator*"
      ],
      "metadata": {
        "id": "5o6QeiFEHf5S"
      }
    },
    {
      "cell_type": "code",
      "source": [
        "# Decorator with arguments\n",
        "# example retry decorator\n",
        "\n",
        "def retry(times):\n",
        "    def decorator(func):\n",
        "        def wrapper(*args, **kwargs):\n",
        "            for _ in range(times):\n",
        "                try:\n",
        "                    return func(*args, **kwargs)\n",
        "                except Exception as e:\n",
        "                    print(f\"Retrying due to {e}\")\n",
        "            return None\n",
        "        return wrapper\n",
        "    return decorator\n",
        "\n",
        "@retry(3)\n",
        "def risky_operation():\n",
        "    raise ValueError(\"Operation failed\")\n",
        "\n",
        "risky_operation()\n"
      ],
      "metadata": {
        "colab": {
          "base_uri": "https://localhost:8080/"
        },
        "id": "ZnsjMd6ZHkbY",
        "outputId": "e577cb63-5a72-4f95-abf1-d759d703b1ee"
      },
      "execution_count": 1,
      "outputs": [
        {
          "output_type": "stream",
          "name": "stdout",
          "text": [
            "Retrying due to Operation failed\n",
            "Retrying due to Operation failed\n",
            "Retrying due to Operation failed\n"
          ]
        }
      ]
    },
    {
      "cell_type": "code",
      "source": [
        "# built in operator\n",
        "class Circle:\n",
        "    def __init__(self, radius):\n",
        "        self._radius = radius\n",
        "\n",
        "    @property\n",
        "    def radius(self):\n",
        "        return self._radius\n",
        "\n",
        "    @property\n",
        "    def area(self):\n",
        "        return 3.1416 * (self._radius ** 2)\n",
        "\n",
        "circle = Circle(5)\n",
        "print(circle.radius)  # Access radius like an attribute\n",
        "print(circle.area)    # Access area as a property\n"
      ],
      "metadata": {
        "colab": {
          "base_uri": "https://localhost:8080/"
        },
        "id": "uvm6DYeZg07f",
        "outputId": "5e591b65-e37c-43c3-87d3-04ef298c790d"
      },
      "execution_count": 2,
      "outputs": [
        {
          "output_type": "stream",
          "name": "stdout",
          "text": [
            "5\n",
            "78.53999999999999\n"
          ]
        }
      ]
    },
    {
      "cell_type": "markdown",
      "source": [
        "Python provides several built-in decorators, such as:\n",
        "\n",
        "@staticmethod: Defines a method that doesn’t access the instance (self).\n",
        "@classmethod: Defines a method that receives the class (cls) as the first argument.\n",
        "@property: Defines a method as a property, allowing access like an attribute"
      ],
      "metadata": {
        "id": "h4tDfNFNhI1e"
      }
    },
    {
      "cell_type": "markdown",
      "source": [
        "#Generator"
      ],
      "metadata": {
        "id": "EF6_ZSxHhN1D"
      }
    },
    {
      "cell_type": "code",
      "source": [
        "#how generator works\n",
        "def count_up_to(max):\n",
        "    count = 1\n",
        "    while count <= max:\n",
        "        yield count\n",
        "        count += 1\n",
        "\n",
        "counter = count_up_to(5)\n",
        "for num in counter:\n",
        "    print(num)\n"
      ],
      "metadata": {
        "colab": {
          "base_uri": "https://localhost:8080/"
        },
        "id": "8rfIOVOfFDQK",
        "outputId": "27dcd4fe-2686-451d-a46a-f3d24dc61f79"
      },
      "execution_count": 2,
      "outputs": [
        {
          "output_type": "stream",
          "name": "stdout",
          "text": [
            "1\n",
            "2\n",
            "3\n",
            "4\n",
            "5\n"
          ]
        }
      ]
    },
    {
      "cell_type": "code",
      "source": [
        "#Basic generator example\n",
        "def simple_generator():\n",
        "    yield \"First\"\n",
        "    yield \"Second\"\n",
        "    yield \"Third\"\n",
        "\n",
        "for value in simple_generator():\n",
        "    print(value)\n"
      ],
      "metadata": {
        "colab": {
          "base_uri": "https://localhost:8080/"
        },
        "id": "kJiB-hwEhSZf",
        "outputId": "6740a326-a8b0-40d3-88d7-2f992024042d"
      },
      "execution_count": 3,
      "outputs": [
        {
          "output_type": "stream",
          "name": "stdout",
          "text": [
            "First\n",
            "Second\n",
            "Third\n"
          ]
        }
      ]
    },
    {
      "cell_type": "code",
      "source": [
        "#Generator expression\n",
        "gen_exp = (x * x for x in range(5))\n",
        "for square in gen_exp:\n",
        "    print(square)\n"
      ],
      "metadata": {
        "colab": {
          "base_uri": "https://localhost:8080/"
        },
        "id": "Ek-3Sm-GhnVP",
        "outputId": "61c76cbe-d874-443c-9d79-47494357c7f3"
      },
      "execution_count": 4,
      "outputs": [
        {
          "output_type": "stream",
          "name": "stdout",
          "text": [
            "0\n",
            "1\n",
            "4\n",
            "9\n",
            "16\n"
          ]
        }
      ]
    },
    {
      "source": [
        "def read_large_file(file_name):\n",
        "    with open(file_name) as file:\n",
        "        for line in file:\n",
        "            yield line.strip()\n",
        "\n",
        "def process(line):  # Define the 'process' function\n",
        "    # Replace this with what you want to do with each line\n",
        "    print(line)  # Example: just print the line\n",
        "\n",
        "for line in read_large_file('file.txt'):\n",
        "    process(line)  # Now 'process' is defined and can be used"
      ],
      "cell_type": "code",
      "metadata": {
        "colab": {
          "base_uri": "https://localhost:8080/"
        },
        "id": "AaMXA1SvjQVb",
        "outputId": "8cd283aa-89e0-4593-a339-978cef28b424"
      },
      "execution_count": 7,
      "outputs": [
        {
          "output_type": "stream",
          "name": "stdout",
          "text": [
            "Food is an integral part of our lives, not only providing the necessary nutrients for survival but also serving as a means of cultural expression, social interaction, and personal enjoyment. The diversity of food across the world is a reflection of the rich tapestry of human history, geography, and tradition.\n",
            "\n",
            "### The Importance of Food in Culture\n",
            "\n",
            "Food is deeply intertwined with culture. It’s more than just sustenance; it's a way to connect with one’s heritage and identity. Every culture has its own unique cuisine, shaped by its history, climate, geography, and available resources. For example, Italian cuisine is famous for its pasta, pizza, and olive oil, influenced by the Mediterranean climate and the historical significance of the Roman Empire. On the other hand, Japanese cuisine, with its emphasis on rice, seafood, and seasonal ingredients, reflects the island nation's geography and the cultural importance of seasonality and aesthetics.\n",
            "\n",
            "Culinary traditions are passed down through generations, preserving the flavors and techniques of the past. Recipes are often guarded secrets, treasured and shared within families, binding generations together through the act of cooking and eating. Special occasions, such as holidays, weddings, and religious ceremonies, are often marked by the preparation and consumption of specific foods that hold symbolic meanings. For instance, in many cultures, bread symbolizes life and sustenance, while in others, certain dishes are believed to bring good fortune or ward off evil.\n",
            "\n",
            "### The Social Aspect of Food\n",
            "\n",
            "Food also plays a crucial role in social interactions. Sharing a meal is a universal gesture of hospitality and friendship. Whether it’s a family dinner, a festive celebration, or a casual gathering with friends, food is often at the center of social activities. The act of eating together fosters a sense of community and belonging. It provides an opportunity for people to come together, communicate, and strengthen relationships.\n",
            "\n",
            "In many cultures, the preparation and sharing of food are communal activities. For example, in many African and Middle Eastern cultures, it is common for families and communities to come together to prepare large meals for special occasions. The process of cooking becomes a social event in itself, where stories are shared, bonds are strengthened, and cultural practices are passed on.\n",
            "\n",
            "The concept of breaking bread together has deep roots in many cultures. In ancient times, sharing food was a sign of peace and trust. Even today, offering food to a guest is a way of showing respect and building rapport. In many societies, refusing food offered by a host can be seen as a slight or an insult.\n",
            "\n",
            "### The Evolution of Food and Cuisine\n",
            "\n",
            "Food and cuisine have evolved significantly over time. Ancient civilizations relied on locally available ingredients and simple cooking methods. The domestication of plants and animals allowed for more stable food sources, leading to the development of agriculture and the rise of civilizations. Over time, trade and exploration introduced new ingredients and cooking techniques to different parts of the world, leading to the fusion of flavors and the creation of new dishes.\n",
            "\n",
            "The Columbian Exchange, for example, was a significant event in culinary history. After Christopher Columbus’s voyages, there was a widespread exchange of crops, animals, and culinary practices between the Old and New Worlds. Ingredients like tomatoes, potatoes, corn, and chocolate, which were native to the Americas, were introduced to Europe, Africa, and Asia, profoundly impacting the cuisines of these regions. Conversely, Old World ingredients like wheat, rice, and coffee were brought to the Americas.\n",
            "\n",
            "The industrial revolution further transformed food production and consumption. Advances in technology and transportation made food more accessible and affordable. The rise of processed foods, convenience foods, and fast food chains in the 20th century changed the way people eat. While these developments provided convenience and variety, they also led to issues such as unhealthy diets, obesity, and a disconnect from traditional cooking practices.\n",
            "\n",
            "In recent years, there has been a growing movement towards sustainable and healthy eating. People are becoming more aware of the impact of their food choices on their health and the environment. Organic farming, plant-based diets, and farm-to-table initiatives are gaining popularity as consumers seek to make more informed and responsible food choices.\n",
            "\n",
            "### The Science of Food\n",
            "\n",
            "The science of food, or gastronomy, explores the chemical, physical, and biological processes involved in cooking and eating. Understanding the science behind food helps us improve cooking techniques, create new flavors, and develop healthier and more sustainable food products.\n",
            "\n",
            "One of the key aspects of food science is nutrition. Our bodies require a balance of macronutrients (carbohydrates, proteins, and fats) and micronutrients (vitamins and minerals) to function properly. A healthy diet provides the necessary nutrients for growth, energy, and overall well-being. However, dietary needs can vary based on factors such as age, gender, activity level, and health conditions.\n",
            "\n",
            "Food science also explores the sensory aspects of eating, such as taste, smell, and texture. These factors play a significant role in our perception of food and our enjoyment of eating. The five basic tastes—sweet, sour, salty, bitter, and umami—combine with aromas and textures to create the complex and varied experiences we associate with different foods.\n",
            "\n",
            "In recent years, the field of molecular gastronomy has gained attention for its innovative approach to cooking. Chefs and scientists collaborate to experiment with new techniques, such as sous-vide cooking, spherification, and foam creation, to create unique and visually stunning dishes. This fusion of science and art challenges traditional notions of cooking and dining, pushing the boundaries of what is possible in the kitchen.\n",
            "\n",
            "### The Future of Food\n",
            "\n",
            "As the global population continues to grow, the future of food is a pressing concern. The challenge lies in providing enough food to feed billions of people while ensuring that the food is nutritious, sustainable, and accessible to all.\n",
            "\n",
            "One of the key areas of focus is sustainable agriculture. Traditional farming methods often rely on chemical fertilizers, pesticides, and large amounts of water, which can have negative impacts on the environment. Sustainable farming practices, such as crop rotation, organic farming, and precision agriculture, aim to minimize these impacts while maintaining high yields.\n",
            "\n",
            "The rise of alternative proteins, such as plant-based meat substitutes and lab-grown meat, is also shaping the future of food. These products offer a more sustainable and ethical alternative to traditional meat, addressing concerns related to animal welfare, environmental degradation, and resource consumption.\n",
            "\n",
            "Technology is playing a significant role in the future of food. Advances in biotechnology, such as genetically modified organisms (GMOs), are helping to create crops that are more resistant to pests, diseases, and climate change. Vertical farming, which involves growing crops in stacked layers indoors, offers a solution to the limited availability of arable land. Additionally, food delivery services and smart kitchens are changing the way we purchase, prepare, and consume food.\n",
            "\n",
            "### Conclusion\n",
            "\n",
            "Food is a fundamental aspect of human life, influencing our health, culture, and society. It is a source of nourishment, pleasure, and connection. As we look to the future, the way we produce, consume, and think about food will continue to evolve. By embracing sustainable practices, advancing food science, and preserving culinary traditions, we can ensure that food remains a source of joy and sustenance for generations to come.\n",
            "\n"
          ]
        }
      ]
    },
    {
      "cell_type": "code",
      "source": [
        "#infinite sequence\n",
        "def infinite_sequence():\n",
        "    num = 0\n",
        "    while True:\n",
        "        yield num\n",
        "        num += 1\n",
        "\n",
        "for i in infinite_sequence():\n",
        "    if i > 5:\n",
        "        break\n",
        "    print(i)\n"
      ],
      "metadata": {
        "colab": {
          "base_uri": "https://localhost:8080/"
        },
        "id": "-l4HpKAMjZCy",
        "outputId": "a4d3f056-f0b1-4503-e43b-be2e19daa20a"
      },
      "execution_count": 8,
      "outputs": [
        {
          "output_type": "stream",
          "name": "stdout",
          "text": [
            "0\n",
            "1\n",
            "2\n",
            "3\n",
            "4\n",
            "5\n"
          ]
        }
      ]
    },
    {
      "cell_type": "markdown",
      "source": [
        "#Advanced Topics\n",
        "1. Generators with send(), throw(), and close():\n",
        "Generators in Python can be more interactive, allowing values to be sent back into the generator and even raising exceptions inside the generator.\n",
        "\n",
        "send(value): Resumes the generator and sends a value to it.\n",
        "throw(exception): Raises an exception inside the generator.\n",
        "close(): Stops the generator.\n"
      ],
      "metadata": {
        "id": "Rr0CamNCjhUD"
      }
    },
    {
      "cell_type": "code",
      "source": [
        "#Example: Using send()\n",
        "def echo():\n",
        "    while True:\n",
        "        received = yield\n",
        "        print(f\"Received: {received}\")\n",
        "\n",
        "gen = echo()\n",
        "next(gen)  # Start the generator\n",
        "gen.send(\"Hello\")\n",
        "gen.send(\"World\")\n",
        "gen.close()\n"
      ],
      "metadata": {
        "colab": {
          "base_uri": "https://localhost:8080/"
        },
        "id": "OyZHDCS8jp38",
        "outputId": "e4cd5629-5682-4519-ef8f-0ec1e1e7d263"
      },
      "execution_count": 9,
      "outputs": [
        {
          "output_type": "stream",
          "name": "stdout",
          "text": [
            "Received: Hello\n",
            "Received: World\n"
          ]
        }
      ]
    },
    {
      "cell_type": "code",
      "source": [
        "'''2. Coroutines:\n",
        "Coroutines are an advanced form of generators designed for concurrent programming. They allow you to pause and resume functions, making them useful for tasks like asynchronous I/O operations.\n",
        "\n",
        "Example: Simple Coroutine'''\n",
        "\n",
        "def simple_coroutine():\n",
        "    print(\"Coroutine started\")\n",
        "    while True:\n",
        "        value = yield\n",
        "        print(f\"Received: {value}\")\n",
        "\n",
        "coroutine = simple_coroutine()\n",
        "next(coroutine)  # Start the coroutine\n",
        "coroutine.send(\"Hello\")\n",
        "coroutine.send(\"World\")\n",
        "coroutine.close()\n",
        "\n"
      ],
      "metadata": {
        "colab": {
          "base_uri": "https://localhost:8080/"
        },
        "id": "zLXu8osEjvfS",
        "outputId": "aaf94c5b-c7dc-45b1-8691-e5384381818b"
      },
      "execution_count": 10,
      "outputs": [
        {
          "output_type": "stream",
          "name": "stdout",
          "text": [
            "Coroutine started\n",
            "Received: Hello\n",
            "Received: World\n"
          ]
        }
      ]
    }
  ]
}